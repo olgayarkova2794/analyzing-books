{
 "cells": [
  {
   "cell_type": "code",
   "execution_count": 14,
   "id": "bb8f9ad0-7eae-4285-820a-ef011a734341",
   "metadata": {},
   "outputs": [
    {
     "data": {
      "application/vnd.jupyter.widget-view+json": {
       "model_id": "8e9135f847d64ed5ae86fea510d8ae66",
       "version_major": 2,
       "version_minor": 0
      },
      "text/plain": [
       "FileUpload(value=(), accept='.pdf', description='Upload')"
      ]
     },
     "metadata": {},
     "output_type": "display_data"
    },
    {
     "data": {
      "application/vnd.jupyter.widget-view+json": {
       "model_id": "ae93e0f7e7a14732ba747662102e7bcc",
       "version_major": 2,
       "version_minor": 0
      },
      "text/plain": [
       "Button(description='Check', style=ButtonStyle(), tooltip='Check')"
      ]
     },
     "metadata": {},
     "output_type": "display_data"
    },
    {
     "data": {
      "application/vnd.jupyter.widget-view+json": {
       "model_id": "b4d411276c934d59a7dafe53a91d9574",
       "version_major": 2,
       "version_minor": 0
      },
      "text/plain": [
       "Output()"
      ]
     },
     "metadata": {},
     "output_type": "display_data"
    }
   ],
   "source": [
    "from pdf2docx import Converter\n",
    "import ipywidgets as widgets\n",
    "import io\n",
    "import os\n",
    "\n",
    "from IPython.display import display\n",
    "\n",
    "# Виджет для загрузки и конвертации\n",
    "\n",
    "upload_widget = widgets.FileUpload(\n",
    "    accept='.pdf',  # Принимаем только файлы .pdf\n",
    "    multiple=False  # Только один файл\n",
    ")\n",
    "\n",
    "# Создаем кнопку\n",
    "convert_button = widgets.Button(\n",
    "    description='Check',\n",
    "    disabled=False,\n",
    "    button_style='',  # 'success', 'info', 'warning', 'danger' или ''\n",
    "    tooltip='Check',\n",
    "    icon=''  # Иконка (имя FontAwesome без префикса `fa-`)\n",
    ")\n",
    "\n",
    "output = widgets.Output()\n",
    "\n",
    "def on_convert_button_click(event):\n",
    "    with output:\n",
    "        output.clear_output()  # Очищаем предыдущий вывод\n",
    "        \n",
    "        # Проверим, что значение загрузки не пустое\n",
    "        if upload_widget.value:\n",
    "            print(\"upload_widget.value содержимое:\", upload_widget.value)  # Отобразить содержимое для отладки\n",
    "            \n",
    "            # Получаем информацию о загруженном файле из первого элемента кортежа\n",
    "            file_info = upload_widget.value[0]\n",
    "            print(\"file_info:\", file_info)  # Отображаем структуру file_info\n",
    "            \n",
    "            # Проверим, есть ли ключи 'name' и 'content'\n",
    "            if 'name' in file_info and 'content' in file_info:\n",
    "                filename = file_info['name']  # Имя файла\n",
    "                print(f'Загруженный файл: {filename}')\n",
    "                \n",
    "                # Сохраняем PDF во временный файл\n",
    "                pdf_path = filename if filename.endswith('.pdf') else filename + '.pdf'\n",
    "                with open(pdf_path, 'wb') as f:\n",
    "                    f.write(file_info['content'])\n",
    "                \n",
    "                # Определяем имя файла для сохранения DOCX\n",
    "                docx_path = pdf_path.replace('.pdf', '.docx')\n",
    "                \n",
    "                # Конвертируем PDF в DOCX\n",
    "                convert_pdf_to_docx(pdf_path, docx_path)\n",
    "                \n",
    "                # Удаляем временный PDF файл, если не нужен\n",
    "                os.remove(pdf_path)\n",
    "            else:\n",
    "                print(\"Ошибка: ключи 'name' и 'content' отсутствуют в file_info.\")\n",
    "        else:\n",
    "            print(\"Файл не загружен или upload_widget.value пуст.\")\n",
    "\n",
    "\n",
    "\n",
    "convert_button.on_click(on_convert_button_click)\n",
    "\n",
    "display(upload_widget, convert_button, output)\n",
    "\n",
    "def convert_pdf_to_docx(pdf_path, docx_path):\n",
    "    # Создаем объект конвертера\n",
    "    cv = Converter(pdf_path)\n",
    "    \n",
    "    # Конвертируем PDF в DOCX\n",
    "    cv.convert(docx_path, start=0, end=None)\n",
    "    \n",
    "    # Закрываем конвертер\n",
    "    cv.close()\n",
    "    print(f\"Конвертация завершена. Файл сохранен как {docx_path}\")\n"
   ]
  },
  {
   "cell_type": "code",
   "execution_count": null,
   "id": "5448cc42-4d28-4f09-97e7-ffa52de149dd",
   "metadata": {},
   "outputs": [],
   "source": []
  }
 ],
 "metadata": {
  "kernelspec": {
   "display_name": "Python 3 (ipykernel)",
   "language": "python",
   "name": "python3"
  },
  "language_info": {
   "codemirror_mode": {
    "name": "ipython",
    "version": 3
   },
   "file_extension": ".py",
   "mimetype": "text/x-python",
   "name": "python",
   "nbconvert_exporter": "python",
   "pygments_lexer": "ipython3",
   "version": "3.11.4"
  }
 },
 "nbformat": 4,
 "nbformat_minor": 5
}
