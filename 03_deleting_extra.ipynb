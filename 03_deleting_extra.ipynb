{
 "cells": [
  {
   "cell_type": "code",
   "execution_count": 1,
   "id": "62600e6e-3b74-49cd-9dd9-dfb2ff64cbff",
   "metadata": {},
   "outputs": [
    {
     "name": "stdout",
     "output_type": "stream",
     "text": [
      "Файл успешно сохранен по адресу: C:\\Users\\ollga\\Books_analysis\\hateful_surrogate\\summary_clean.docx\n"
     ]
    }
   ],
   "source": [
    "import re\n",
    "from docx import Document\n",
    "import os\n",
    "\n",
    "def remove_inserts_and_format_headings(file_path, save_path):\n",
    "    # Открываем документ\n",
    "    doc = Document(file_path)\n",
    "    \n",
    "    # Регулярные выражения для поиска вставок, которые нужно удалить\n",
    "    patterns = [\n",
    "        r'\\d+o',  # например, '4o'\n",
    "        r'Вы сказали:',  # например, 'Вы сказали:'\n",
    "        r'Chapter_\\d+\\.docx',  # например, 'Chapter_2.docx', 'Chapter_3.docx'\n",
    "        r'Документ',  # например, 'Документ'\n",
    "        r'ChatGPT'  # например, 'ChatGPT'\n",
    "    ]\n",
    "\n",
    "    # Регулярное выражение для заголовков глав: Глава + номер главы\n",
    "    chapter_heading_pattern = re.compile(r'^Глава\\s+\\d+')\n",
    "\n",
    "    # Функция для проверки, нужно ли удалять абзац\n",
    "    def should_delete(paragraph):\n",
    "        for pattern in patterns:\n",
    "            if re.match(pattern, paragraph.text.strip()):\n",
    "                return True\n",
    "        return False\n",
    "\n",
    "    # Создаем новый документ для сохранения изменений\n",
    "    new_doc = Document()\n",
    "\n",
    "    # Проходим по абзацам и удаляем те, которые соответствуют шаблонам\n",
    "    for para in doc.paragraphs:\n",
    "        if not should_delete(para):\n",
    "            # Если абзац является заголовком главы, применяем стиль \"Заголовок 3\"\n",
    "            if chapter_heading_pattern.match(para.text.strip()):\n",
    "                new_para = new_doc.add_paragraph(para.text, style='Heading 3')\n",
    "            else:\n",
    "                # Добавляем абзац в новый документ, сохраняя форматирование\n",
    "                new_para = new_doc.add_paragraph()\n",
    "                for run in para.runs:\n",
    "                    new_run = new_para.add_run(run.text)\n",
    "                    # Сохраняем форматирование\n",
    "                    new_run.bold = run.bold\n",
    "                    new_run.italic = run.italic\n",
    "                    new_run.underline = run.underline\n",
    "                    new_run.font.name = run.font.name\n",
    "                    new_run.font.size = run.font.size\n",
    "\n",
    "    # Сохраняем новый документ\n",
    "    new_doc.save(save_path)\n",
    "\n",
    "    # Уведомление о сохранении файла\n",
    "    abs_path = os.path.abspath(save_path)\n",
    "    print(f\"Файл успешно сохранен по адресу: {abs_path}\")\n",
    "\n",
    "# Пример использования\n",
    "file_path = 'hateful_surrogate/summary.docx'  # Исходный файл\n",
    "save_path = 'hateful_surrogate/summary_clean.docx'  # Файл для сохранения без вставок\n",
    "\n",
    "remove_inserts_and_format_headings(file_path, save_path)\n"
   ]
  },
  {
   "cell_type": "code",
   "execution_count": null,
   "id": "9dcba549-14d6-403c-bd41-87ab21cde43b",
   "metadata": {},
   "outputs": [],
   "source": []
  }
 ],
 "metadata": {
  "kernelspec": {
   "display_name": "Python 3 (ipykernel)",
   "language": "python",
   "name": "python3"
  },
  "language_info": {
   "codemirror_mode": {
    "name": "ipython",
    "version": 3
   },
   "file_extension": ".py",
   "mimetype": "text/x-python",
   "name": "python",
   "nbconvert_exporter": "python",
   "pygments_lexer": "ipython3",
   "version": "3.11.4"
  }
 },
 "nbformat": 4,
 "nbformat_minor": 5
}
